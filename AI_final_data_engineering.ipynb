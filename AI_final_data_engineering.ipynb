{
  "nbformat": 4,
  "nbformat_minor": 0,
  "metadata": {
    "colab": {
      "name": "AI_final_data_engineering.ipynb",
      "version": "0.3.2",
      "provenance": [],
      "include_colab_link": true
    },
    "kernelspec": {
      "name": "python3",
      "display_name": "Python 3"
    }
  },
  "cells": [
    {
      "cell_type": "markdown",
      "metadata": {
        "id": "view-in-github",
        "colab_type": "text"
      },
      "source": [
        "<a href=\"https://colab.research.google.com/github/jaisal1024/advanced-investments-final/blob/master/AI_final_data_engineering.ipynb\" target=\"_parent\"><img src=\"https://colab.research.google.com/assets/colab-badge.svg\" alt=\"Open In Colab\"/></a>"
      ]
    },
    {
      "cell_type": "markdown",
      "metadata": {
        "id": "ZmiboT0wz44g",
        "colab_type": "text"
      },
      "source": [
        "# Advanced Investments Finals\n",
        "Data is collected from CRSP and OptionMetric via WRDS"
      ]
    },
    {
      "cell_type": "code",
      "metadata": {
        "id": "sN2x8HU9z-nc",
        "colab_type": "code",
        "colab": {}
      },
      "source": [
        "import sys\n",
        "import os\n",
        "import pandas as pd\n",
        "import datetime\n",
        "from datetime import datetime\n",
        "from google.colab import files"
      ],
      "execution_count": 0,
      "outputs": []
    },
    {
      "cell_type": "code",
      "metadata": {
        "id": "ZN5p1zSB0LOY",
        "colab_type": "code",
        "colab": {}
      },
      "source": [
        "# import raw data from github\n",
        "url_crsp = 'https://raw.githubusercontent.com/jaisal1024/advanced-investments-final/master/crsp-monthly.csv'\n",
        "url_fama = 'https://raw.githubusercontent.com/jaisal1024/advanced-investments-final/master/fama-french-indices.csv'\n",
        "url_opt = 'https://raw.githubusercontent.com/jaisal1024/advanced-investments-final/master/daily-options-vol.csv'\n",
        "df_crsp = pd.read_csv(url_crsp)\n",
        "df_fama = pd.read_csv(url_fama)\n",
        "df_opt = pd.read_csv(url_opt)"
      ],
      "execution_count": 0,
      "outputs": []
    },
    {
      "cell_type": "markdown",
      "metadata": {
        "id": "Z78DHdOOGGoj",
        "colab_type": "text"
      },
      "source": [
        "## Add headers to options data \n",
        "Datetime and datemonth fields"
      ]
    },
    {
      "cell_type": "code",
      "metadata": {
        "id": "qwUbCGpcU2YI",
        "colab_type": "code",
        "colab": {}
      },
      "source": [
        "df_opt['datetime'] = df_opt['date'].apply(lambda x: datetime.strptime(str(x), '%Y%m%d'))"
      ],
      "execution_count": 0,
      "outputs": []
    },
    {
      "cell_type": "code",
      "metadata": {
        "id": "hHbCdYTJXglb",
        "colab_type": "code",
        "colab": {}
      },
      "source": [
        "df_opt['datemonth'] = df_opt['date'].apply(lambda x: str(x)[:-2])"
      ],
      "execution_count": 0,
      "outputs": []
    },
    {
      "cell_type": "markdown",
      "metadata": {
        "id": "6Tn6tCwUGNyB",
        "colab_type": "text"
      },
      "source": [
        "## Create Call and Put dataframes\n",
        "Then sort them and reset the indices"
      ]
    },
    {
      "cell_type": "code",
      "metadata": {
        "id": "ptLeYyX4jF2Z",
        "colab_type": "code",
        "colab": {}
      },
      "source": [
        "df_opt_c = df_opt.loc[df_opt['cp_flag'] == 'C']\n",
        "df_opt_p = df_opt.loc[df_opt['cp_flag'] == 'P']\n",
        "df_opt_c = df_opt_c.sort_values(['ticker', 'datemonth']).reset_index(drop='True')\n",
        "df_opt_p = df_opt_p.sort_values(['ticker', 'datemonth']).reset_index(drop='True')"
      ],
      "execution_count": 0,
      "outputs": []
    },
    {
      "cell_type": "markdown",
      "metadata": {
        "id": "3GUn38m4GVp9",
        "colab_type": "text"
      },
      "source": [
        "## Group by ticket and datemonth and then calculate the sums\n",
        "Then rename the volume and open interest columns to prep for merge\n"
      ]
    },
    {
      "cell_type": "code",
      "metadata": {
        "id": "ZoERxV28oMTn",
        "colab_type": "code",
        "colab": {}
      },
      "source": [
        "df_opt_p_month = df_opt_p.groupby(['ticker', 'datemonth']).sum()"
      ],
      "execution_count": 0,
      "outputs": []
    },
    {
      "cell_type": "code",
      "metadata": {
        "id": "fQlOWv73k1rZ",
        "colab_type": "code",
        "colab": {}
      },
      "source": [
        "df_opt_c_month = df_opt_c.groupby(['ticker', 'datemonth']).sum()"
      ],
      "execution_count": 0,
      "outputs": []
    },
    {
      "cell_type": "code",
      "metadata": {
        "id": "u_6xAsX0qdoE",
        "colab_type": "code",
        "colab": {}
      },
      "source": [
        "df_opt_c_month.rename(index = str, columns = {'volume': 'call_vol', 'open_interest':'call_open_interest'}, inplace=True)\n",
        "df_opt_p_month.rename(index = str, columns = {'volume': 'put_vol', 'open_interest':'put_open_interest'}, inplace=True)"
      ],
      "execution_count": 0,
      "outputs": []
    },
    {
      "cell_type": "markdown",
      "metadata": {
        "id": "At9qvUfxGh-6",
        "colab_type": "text"
      },
      "source": [
        "## Concatenate them into the final options dataframe\n",
        "drop useless columns"
      ]
    },
    {
      "cell_type": "code",
      "metadata": {
        "id": "25h2dIyxsReS",
        "colab_type": "code",
        "colab": {}
      },
      "source": [
        "df_opt_final = pd.concat([df_opt_c_month, df_opt_p_month], axis=1)"
      ],
      "execution_count": 0,
      "outputs": []
    },
    {
      "cell_type": "code",
      "metadata": {
        "id": "j7a8XVcGo1eA",
        "colab_type": "code",
        "colab": {}
      },
      "source": [
        "df_opt_final = df_opt_final.drop(columns = ['index_flag', 'date', 'secid'])"
      ],
      "execution_count": 0,
      "outputs": []
    },
    {
      "cell_type": "markdown",
      "metadata": {
        "id": "LHET7x_oGq5M",
        "colab_type": "text"
      },
      "source": [
        "## Create ratio for call/put vol and call/put open interest"
      ]
    },
    {
      "cell_type": "code",
      "metadata": {
        "id": "5cJycdBHtcVv",
        "colab_type": "code",
        "colab": {}
      },
      "source": [
        "df_opt_final['ratio_vol'] = df_opt_final['call_vol']/df_opt_final['put_vol']"
      ],
      "execution_count": 0,
      "outputs": []
    },
    {
      "cell_type": "code",
      "metadata": {
        "id": "g9PALP3euNdl",
        "colab_type": "code",
        "colab": {}
      },
      "source": [
        "df_opt_final['ratio_open_interest'] = df_opt_final['call_open_interest']/df_opt_final['put_open_interest']"
      ],
      "execution_count": 0,
      "outputs": []
    },
    {
      "cell_type": "markdown",
      "metadata": {
        "id": "dW1wa3X_GzxT",
        "colab_type": "text"
      },
      "source": [
        "## Rename ARNP stock to AA in dataset\n",
        "sort then reindex"
      ]
    },
    {
      "cell_type": "code",
      "metadata": {
        "id": "Y-RK1ysKDi0s",
        "colab_type": "code",
        "colab": {}
      },
      "source": [
        "#rename ARNP to AA in dataset\n",
        "df_opt_final.loc[df_opt_final['ticker'] == 'ARNC', 'ticker'] = 'AA'"
      ],
      "execution_count": 0,
      "outputs": []
    },
    {
      "cell_type": "code",
      "metadata": {
        "id": "crxug9yNDphu",
        "colab_type": "code",
        "outputId": "f401ab0a-fd08-4c38-9511-5e5134ef7d83",
        "colab": {
          "base_uri": "https://localhost:8080/",
          "height": 204
        }
      },
      "source": [
        "df_opt_final = df_opt_final = df_opt_final.sort_values(['ticker', 'datemonth']).reset_index()\n",
        "df_opt_final.head()"
      ],
      "execution_count": 0,
      "outputs": [
        {
          "output_type": "execute_result",
          "data": {
            "text/html": [
              "<div>\n",
              "<style scoped>\n",
              "    .dataframe tbody tr th:only-of-type {\n",
              "        vertical-align: middle;\n",
              "    }\n",
              "\n",
              "    .dataframe tbody tr th {\n",
              "        vertical-align: top;\n",
              "    }\n",
              "\n",
              "    .dataframe thead th {\n",
              "        text-align: right;\n",
              "    }\n",
              "</style>\n",
              "<table border=\"1\" class=\"dataframe\">\n",
              "  <thead>\n",
              "    <tr style=\"text-align: right;\">\n",
              "      <th></th>\n",
              "      <th>level_0</th>\n",
              "      <th>index</th>\n",
              "      <th>ticker</th>\n",
              "      <th>datemonth</th>\n",
              "      <th>call_vol</th>\n",
              "      <th>call_open_interest</th>\n",
              "      <th>put_vol</th>\n",
              "      <th>put_open_interest</th>\n",
              "      <th>ratio_vol</th>\n",
              "      <th>ratio_open_interest</th>\n",
              "    </tr>\n",
              "  </thead>\n",
              "  <tbody>\n",
              "    <tr>\n",
              "      <th>0</th>\n",
              "      <td>0</td>\n",
              "      <td>720</td>\n",
              "      <td>AA</td>\n",
              "      <td>200607</td>\n",
              "      <td>303888</td>\n",
              "      <td>6556565</td>\n",
              "      <td>167897</td>\n",
              "      <td>4251089</td>\n",
              "      <td>1.809967</td>\n",
              "      <td>1.542326</td>\n",
              "    </tr>\n",
              "    <tr>\n",
              "      <th>1</th>\n",
              "      <td>1</td>\n",
              "      <td>721</td>\n",
              "      <td>AA</td>\n",
              "      <td>200608</td>\n",
              "      <td>146724</td>\n",
              "      <td>6937698</td>\n",
              "      <td>135537</td>\n",
              "      <td>4686256</td>\n",
              "      <td>1.082538</td>\n",
              "      <td>1.480435</td>\n",
              "    </tr>\n",
              "    <tr>\n",
              "      <th>2</th>\n",
              "      <td>2</td>\n",
              "      <td>722</td>\n",
              "      <td>AA</td>\n",
              "      <td>200609</td>\n",
              "      <td>184089</td>\n",
              "      <td>6551174</td>\n",
              "      <td>242312</td>\n",
              "      <td>5005516</td>\n",
              "      <td>0.759719</td>\n",
              "      <td>1.308791</td>\n",
              "    </tr>\n",
              "    <tr>\n",
              "      <th>3</th>\n",
              "      <td>3</td>\n",
              "      <td>723</td>\n",
              "      <td>AA</td>\n",
              "      <td>200610</td>\n",
              "      <td>352148</td>\n",
              "      <td>7639471</td>\n",
              "      <td>193484</td>\n",
              "      <td>5178574</td>\n",
              "      <td>1.820037</td>\n",
              "      <td>1.475207</td>\n",
              "    </tr>\n",
              "    <tr>\n",
              "      <th>4</th>\n",
              "      <td>4</td>\n",
              "      <td>724</td>\n",
              "      <td>AA</td>\n",
              "      <td>200611</td>\n",
              "      <td>174649</td>\n",
              "      <td>5975063</td>\n",
              "      <td>203050</td>\n",
              "      <td>4179924</td>\n",
              "      <td>0.860128</td>\n",
              "      <td>1.429467</td>\n",
              "    </tr>\n",
              "  </tbody>\n",
              "</table>\n",
              "</div>"
            ],
            "text/plain": [
              "   level_0  index ticker datemonth  call_vol  call_open_interest  put_vol  \\\n",
              "0        0    720     AA    200607    303888             6556565   167897   \n",
              "1        1    721     AA    200608    146724             6937698   135537   \n",
              "2        2    722     AA    200609    184089             6551174   242312   \n",
              "3        3    723     AA    200610    352148             7639471   193484   \n",
              "4        4    724     AA    200611    174649             5975063   203050   \n",
              "\n",
              "   put_open_interest  ratio_vol  ratio_open_interest  \n",
              "0            4251089   1.809967             1.542326  \n",
              "1            4686256   1.082538             1.480435  \n",
              "2            5005516   0.759719             1.308791  \n",
              "3            5178574   1.820037             1.475207  \n",
              "4            4179924   0.860128             1.429467  "
            ]
          },
          "metadata": {
            "tags": []
          },
          "execution_count": 173
        }
      ]
    },
    {
      "cell_type": "markdown",
      "metadata": {
        "id": "DK0rl_QRG_c8",
        "colab_type": "text"
      },
      "source": [
        "## Export to CSV and download "
      ]
    },
    {
      "cell_type": "code",
      "metadata": {
        "id": "ytP2Lt2_jOsr",
        "colab_type": "code",
        "colab": {}
      },
      "source": [
        "df_opt_final.to_csv('monthly_options_final.csv')"
      ],
      "execution_count": 0,
      "outputs": []
    },
    {
      "cell_type": "code",
      "metadata": {
        "id": "md4MYNEstpJj",
        "colab_type": "code",
        "colab": {}
      },
      "source": [
        "files.download(\"monthly_options_final.csv\")"
      ],
      "execution_count": 0,
      "outputs": []
    },
    {
      "cell_type": "markdown",
      "metadata": {
        "id": "f8fonvc6HrIR",
        "colab_type": "text"
      },
      "source": [
        "## Merge CRSP dataset and Options dataset\n",
        "create datemonth column in crsp data\n",
        "rename TICKER to ticker\n",
        "make sure type of ticker and datemonth are string\n",
        "merge on inner join"
      ]
    },
    {
      "cell_type": "code",
      "metadata": {
        "id": "7-ZavRpSHjt-",
        "colab_type": "code",
        "colab": {}
      },
      "source": [
        "# merge options data and crsp data\n",
        "df_crsp['datemonth'] = df_crsp['date'].apply(lambda x: str(x)[:-2])"
      ],
      "execution_count": 0,
      "outputs": []
    },
    {
      "cell_type": "code",
      "metadata": {
        "id": "GIJp7pSwH3KX",
        "colab_type": "code",
        "colab": {}
      },
      "source": [
        "df_crsp = df_crsp.sort_values(['TICKER', 'datemonth']).reset_index(drop='True')\n",
        "df_crsp.rename(index = str, columns = {'TICKER': 'ticker'}, inplace=True)\n",
        "df_crsp.head()"
      ],
      "execution_count": 0,
      "outputs": []
    },
    {
      "cell_type": "code",
      "metadata": {
        "id": "lhxXUfuipnVL",
        "colab_type": "code",
        "colab": {}
      },
      "source": [
        "df_opt_final.ticker = df_opt_final.ticker.astype(str)\n",
        "df_opt_final.datemonth = df_opt_final.datemonth.astype(str)"
      ],
      "execution_count": 0,
      "outputs": []
    },
    {
      "cell_type": "code",
      "metadata": {
        "id": "dUJHjmAiqvKA",
        "colab_type": "code",
        "colab": {}
      },
      "source": [
        "df_crsp_final.ticker = df_crsp_final.ticker.astype(str)\n",
        "df_crsp_final.datemonth = df_crsp_final.datemonth.astype(str)"
      ],
      "execution_count": 0,
      "outputs": []
    },
    {
      "cell_type": "code",
      "metadata": {
        "id": "ys5OV3XrH6ya",
        "colab_type": "code",
        "colab": {}
      },
      "source": [
        "df_crsp_final = df_crsp\n",
        "df_crsp_final = df_crsp_final.merge(df_opt_final, on = ['ticker', 'datemonth'], how = 'inner')"
      ],
      "execution_count": 0,
      "outputs": []
    },
    {
      "cell_type": "code",
      "metadata": {
        "id": "VUYy_lvxq9ny",
        "colab_type": "code",
        "colab": {}
      },
      "source": [
        "finals_tick = list(df_crsp_final.ticker.unique())"
      ],
      "execution_count": 0,
      "outputs": []
    },
    {
      "cell_type": "code",
      "metadata": {
        "id": "-wSpvZRsH9uj",
        "colab_type": "code",
        "colab": {}
      },
      "source": [
        "# df_crsp_final.to_csv('crsp_merged.csv')\n",
        "# files.download(\"crsp_merged.csv\")"
      ],
      "execution_count": 0,
      "outputs": []
    },
    {
      "cell_type": "markdown",
      "metadata": {
        "id": "FVk4gSS1NbOj",
        "colab_type": "text"
      },
      "source": [
        "## Find Missing Data"
      ]
    },
    {
      "cell_type": "code",
      "metadata": {
        "id": "z-xDshLmNZnR",
        "colab_type": "code",
        "colab": {}
      },
      "source": [
        "opt_tick = list(df_opt_final.ticker.unique())\n",
        "crsp_tick = list(df_crsp.ticker.unique())"
      ],
      "execution_count": 0,
      "outputs": []
    },
    {
      "cell_type": "code",
      "metadata": {
        "id": "xZJBhi9UN7at",
        "colab_type": "code",
        "outputId": "4044295c-0426-4bb8-9fe4-d72532c02639",
        "colab": {
          "base_uri": "https://localhost:8080/",
          "height": 34
        }
      },
      "source": [
        "print(len(crsp_tick), len(opt_tick), len(finals_tick))"
      ],
      "execution_count": 0,
      "outputs": [
        {
          "output_type": "stream",
          "text": [
            "98 83 81\n"
          ],
          "name": "stdout"
        }
      ]
    },
    {
      "cell_type": "code",
      "metadata": {
        "id": "iQ5NT7RPSsnC",
        "colab_type": "code",
        "outputId": "18a671f5-ce27-43d0-9cd3-47e5704e006e",
        "colab": {
          "base_uri": "https://localhost:8080/",
          "height": 34
        }
      },
      "source": [
        "list(set(opt_tick).difference(finals_tick))"
      ],
      "execution_count": 0,
      "outputs": [
        {
          "output_type": "execute_result",
          "data": {
            "text/plain": [
              "['NSM', 'BUD']"
            ]
          },
          "metadata": {
            "tags": []
          },
          "execution_count": 247
        }
      ]
    },
    {
      "cell_type": "code",
      "metadata": {
        "id": "d7runBUzYz_8",
        "colab_type": "code",
        "outputId": "b190473b-ccc2-4c14-f52b-0a4ebcce40d3",
        "colab": {
          "base_uri": "https://localhost:8080/",
          "height": 306
        }
      },
      "source": [
        "list(set(crsp_tick).difference(finals_tick))"
      ],
      "execution_count": 0,
      "outputs": [
        {
          "output_type": "execute_result",
          "data": {
            "text/plain": [
              "['BHI',\n",
              " 'MLSS',\n",
              " 'MEDI',\n",
              " 'CVX',\n",
              " 'CSC',\n",
              " 'TYC',\n",
              " 'DOW',\n",
              " 'UPS',\n",
              " 'nan',\n",
              " 'OMX',\n",
              " 'SNSTA',\n",
              " 'MSS',\n",
              " 'HSH',\n",
              " 'SLE',\n",
              " 'EMC',\n",
              " 'DD',\n",
              " 'LTD']"
            ]
          },
          "metadata": {
            "tags": []
          },
          "execution_count": 246
        }
      ]
    },
    {
      "cell_type": "markdown",
      "metadata": {
        "id": "ANn3UCQujCmd",
        "colab_type": "text"
      },
      "source": [
        "# Merge fama french risk free rate"
      ]
    },
    {
      "cell_type": "code",
      "metadata": {
        "id": "Ev7EhQv_jBxN",
        "colab_type": "code",
        "colab": {}
      },
      "source": [
        "# merge risk free rate\n",
        "df_fama_temp = df_fama.filter(['dateff','rf'], axis=1)\n",
        "df_fama_temp = df_fama_temp.rename(index = str, columns = {'dateff' : 'date'})\n",
        "df = pd.merge(df_crsp_final, df_fama_temp, on = 'date', how = 'left')"
      ],
      "execution_count": 0,
      "outputs": []
    },
    {
      "cell_type": "code",
      "metadata": {
        "id": "Gn0wKVrvjfDk",
        "colab_type": "code",
        "colab": {}
      },
      "source": [
        "df.loc[df['RET']== 'C', 'RET'] = '0'\n",
        "df['RET'] = df['RET'].astype(float)\n",
        "df.dtypes\n",
        "df['RET-RF'] = df['RET'] - df['rf']"
      ],
      "execution_count": 0,
      "outputs": []
    },
    {
      "cell_type": "code",
      "metadata": {
        "id": "_ppxonBojikY",
        "colab_type": "code",
        "colab": {}
      },
      "source": [
        "df.to_csv('crsp_merged-81.csv')\n",
        "files.download(\"crsp_merged-81.csv\")"
      ],
      "execution_count": 0,
      "outputs": []
    }
  ]
}