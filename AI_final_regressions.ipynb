{
  "nbformat": 4,
  "nbformat_minor": 0,
  "metadata": {
    "colab": {
      "name": "AI_final_regressions.ipynb",
      "version": "0.3.2",
      "provenance": [],
      "collapsed_sections": [],
      "include_colab_link": true
    },
    "kernelspec": {
      "name": "python3",
      "display_name": "Python 3"
    }
  },
  "cells": [
    {
      "cell_type": "markdown",
      "metadata": {
        "id": "view-in-github",
        "colab_type": "text"
      },
      "source": [
        "<a href=\"https://colab.research.google.com/github/jaisal1024/advanced-investments-final/blob/master/AI_final_regressions.ipynb\" target=\"_parent\"><img src=\"https://colab.research.google.com/assets/colab-badge.svg\" alt=\"Open In Colab\"/></a>"
      ]
    },
    {
      "cell_type": "markdown",
      "metadata": {
        "id": "ZmiboT0wz44g",
        "colab_type": "text"
      },
      "source": [
        "# Advanced Investments Finals\n",
        "## Jaisal Friedman \n",
        "### May 8, 2018\n",
        "\n",
        "#### Feature & Methodology\n",
        "*Call/Put Monthly Option Volume* on\n",
        "1.  Predictive Regression\n",
        "2. Fama-French\n",
        "3. Fama-Macbeth"
      ]
    },
    {
      "cell_type": "code",
      "metadata": {
        "id": "sN2x8HU9z-nc",
        "colab_type": "code",
        "colab": {}
      },
      "source": [
        "#%matplotlib inline\n",
        "import sys\n",
        "import os\n",
        "import statistics as stat\n",
        "import matplotlib.pyplot as plt\n",
        "plt.close('all')\n",
        "import pandas as pd\n",
        "import numpy as np\n",
        "import sklearn\n",
        "import datetime\n",
        "from datetime import datetime, timedelta\n",
        "from sklearn import linear_model\n",
        "import statsmodels.api as sm\n",
        "from google.colab import files"
      ],
      "execution_count": 0,
      "outputs": []
    },
    {
      "cell_type": "code",
      "metadata": {
        "id": "ZN5p1zSB0LOY",
        "colab_type": "code",
        "colab": {}
      },
      "source": [
        "# import cleaned data from github\n",
        "url_crsp = 'https://raw.githubusercontent.com/jaisal1024/advanced-investments-final/master/data/crsp_merged-81-ret-beta.csv'\n",
        "url_fama = 'https://raw.githubusercontent.com/jaisal1024/advanced-investments-final/master/data/fama-french-indices.csv'\n",
        "df_crsp = pd.read_csv(url_crsp)\n",
        "df_fama = pd.read_csv(url_fama)"
      ],
      "execution_count": 0,
      "outputs": []
    },
    {
      "cell_type": "markdown",
      "metadata": {
        "id": "Z78DHdOOGGoj",
        "colab_type": "text"
      },
      "source": [
        "## Predictive Regression\n",
        "1. Build a predictive return function\n",
        "2. Add rff rate to fama set"
      ]
    },
    {
      "cell_type": "code",
      "metadata": {
        "id": "zMucCdyZJzHX",
        "colab_type": "code",
        "colab": {}
      },
      "source": [
        "def predictive_regression(df_, months_shift): \n",
        "  df = df_.copy()\n",
        "  char_ = \"ratio_vol_-\"+str(months_shift)\n",
        "  df[char_] = df['ratio_vol'].shift(-1)\n",
        "  df_pred = df.groupby('date').mean()\n",
        "  df_pred = df_pred.drop(['DLPRC', 'DLRET'], axis=1)\n",
        "  df_pred = df_pred.iloc[:-months_shift]\n",
        "  df_pred.replace([np.inf, -np.inf], np.nan)\n",
        "  df_pred.dropna(subset=['RET-RF', char_], how = 'any',axis='index', inplace=True)\n",
        "  X = list(df_pred[char_])\n",
        "  Y = list(df_pred['RET-RF'])\n",
        "  model = sm.OLS(Y, X).fit()\n",
        "  P = X*model.params\n",
        "  print(\"DEV of Model Pred /MEAN of RET-RF: \", stat.stdev(P)/stat.mean(Y))\n",
        "  return model"
      ],
      "execution_count": 0,
      "outputs": []
    },
    {
      "cell_type": "code",
      "metadata": {
        "id": "VtOzwCS2k2cN",
        "colab_type": "code",
        "outputId": "34459e0b-019a-48d1-e6c0-2b8e31a7ccbb",
        "colab": {
          "base_uri": "https://localhost:8080/",
          "height": 85
        }
      },
      "source": [
        "model_1_mth = predictive_regression(df_crsp, 1)\n",
        "model_3_mth = predictive_regression(df_crsp, 3)\n",
        "model_6_mth = predictive_regression(df_crsp, 6)\n",
        "model_12_mth = predictive_regression(df_crsp, 12)"
      ],
      "execution_count": 93,
      "outputs": [
        {
          "output_type": "stream",
          "text": [
            "DEV of Model Pred /MEAN of RET-RF:  0.38787751578180674\n",
            "DEV of Model Pred /MEAN of RET-RF:  0.3896425575256668\n",
            "DEV of Model Pred /MEAN of RET-RF:  0.39380720890451093\n",
            "DEV of Model Pred /MEAN of RET-RF:  0.3626400118613368\n"
          ],
          "name": "stdout"
        }
      ]
    },
    {
      "cell_type": "code",
      "metadata": {
        "id": "AWhO613UAjSs",
        "colab_type": "code",
        "colab": {
          "base_uri": "https://localhost:8080/",
          "height": 425
        },
        "outputId": "b9583777-cedf-407e-ee74-553848ca1d18"
      },
      "source": [
        "#@title Predictive Regression 1-month Lag on Call/Put Ratio {display-mode: \"form\"}\n",
        "print(model_1_mth.summary())"
      ],
      "execution_count": 328,
      "outputs": [
        {
          "output_type": "stream",
          "text": [
            "                            OLS Regression Results                            \n",
            "==============================================================================\n",
            "Dep. Variable:                      y   R-squared:                       0.059\n",
            "Model:                            OLS   Adj. R-squared:                  0.052\n",
            "Method:                 Least Squares   F-statistic:                     7.463\n",
            "Date:                Wed, 08 May 2019   Prob (F-statistic):            0.00727\n",
            "Time:                        19:53:50   Log-Likelihood:                 182.10\n",
            "No. Observations:                 119   AIC:                            -362.2\n",
            "Df Residuals:                     118   BIC:                            -359.4\n",
            "Df Model:                           1                                         \n",
            "Covariance Type:            nonrobust                                         \n",
            "==============================================================================\n",
            "                 coef    std err          t      P>|t|      [0.025      0.975]\n",
            "------------------------------------------------------------------------------\n",
            "x1             0.0067      0.002      2.732      0.007       0.002       0.011\n",
            "==============================================================================\n",
            "Omnibus:                       14.940   Durbin-Watson:                   1.605\n",
            "Prob(Omnibus):                  0.001   Jarque-Bera (JB):               38.240\n",
            "Skew:                          -0.371   Prob(JB):                     4.97e-09\n",
            "Kurtosis:                       5.676   Cond. No.                         1.00\n",
            "==============================================================================\n",
            "\n",
            "Warnings:\n",
            "[1] Standard Errors assume that the covariance matrix of the errors is correctly specified.\n"
          ],
          "name": "stdout"
        }
      ]
    },
    {
      "cell_type": "code",
      "metadata": {
        "id": "BYVQRTRnAhr1",
        "colab_type": "code",
        "colab": {
          "base_uri": "https://localhost:8080/",
          "height": 425
        },
        "outputId": "0061fae5-b6b7-4302-cc25-5642473a6a18"
      },
      "source": [
        "#@title Predictive Regression 3-month Lag on Call/Put Ratio {display-mode: \"form\"}\n",
        "print(model_3_mth.summary())"
      ],
      "execution_count": 329,
      "outputs": [
        {
          "output_type": "stream",
          "text": [
            "                            OLS Regression Results                            \n",
            "==============================================================================\n",
            "Dep. Variable:                      y   R-squared:                       0.059\n",
            "Model:                            OLS   Adj. R-squared:                  0.051\n",
            "Method:                 Least Squares   F-statistic:                     7.253\n",
            "Date:                Wed, 08 May 2019   Prob (F-statistic):            0.00813\n",
            "Time:                        19:53:57   Log-Likelihood:                 178.06\n",
            "No. Observations:                 117   AIC:                            -354.1\n",
            "Df Residuals:                     116   BIC:                            -351.4\n",
            "Df Model:                           1                                         \n",
            "Covariance Type:            nonrobust                                         \n",
            "==============================================================================\n",
            "                 coef    std err          t      P>|t|      [0.025      0.975]\n",
            "------------------------------------------------------------------------------\n",
            "x1             0.0067      0.002      2.693      0.008       0.002       0.012\n",
            "==============================================================================\n",
            "Omnibus:                       14.251   Durbin-Watson:                   1.596\n",
            "Prob(Omnibus):                  0.001   Jarque-Bera (JB):               35.103\n",
            "Skew:                          -0.363   Prob(JB):                     2.38e-08\n",
            "Kurtosis:                       5.583   Cond. No.                         1.00\n",
            "==============================================================================\n",
            "\n",
            "Warnings:\n",
            "[1] Standard Errors assume that the covariance matrix of the errors is correctly specified.\n"
          ],
          "name": "stdout"
        }
      ]
    },
    {
      "cell_type": "code",
      "metadata": {
        "id": "akOJSRp0AdjE",
        "colab_type": "code",
        "colab": {
          "base_uri": "https://localhost:8080/",
          "height": 425
        },
        "outputId": "92848b2c-4f4e-4160-ee29-6cbfbad8e2a0"
      },
      "source": [
        "#@title Predictive Regression 6-month Lag on Call/Put Ratio {display-mode: \"form\"}\n",
        "print(model_6_mth.summary())"
      ],
      "execution_count": 330,
      "outputs": [
        {
          "output_type": "stream",
          "text": [
            "                            OLS Regression Results                            \n",
            "==============================================================================\n",
            "Dep. Variable:                      y   R-squared:                       0.059\n",
            "Model:                            OLS   Adj. R-squared:                  0.050\n",
            "Method:                 Least Squares   F-statistic:                     7.060\n",
            "Date:                Wed, 08 May 2019   Prob (F-statistic):            0.00902\n",
            "Time:                        19:54:10   Log-Likelihood:                 173.46\n",
            "No. Observations:                 114   AIC:                            -344.9\n",
            "Df Residuals:                     113   BIC:                            -342.2\n",
            "Df Model:                           1                                         \n",
            "Covariance Type:            nonrobust                                         \n",
            "==============================================================================\n",
            "                 coef    std err          t      P>|t|      [0.025      0.975]\n",
            "------------------------------------------------------------------------------\n",
            "x1             0.0066      0.002      2.657      0.009       0.002       0.012\n",
            "==============================================================================\n",
            "Omnibus:                       14.497   Durbin-Watson:                   1.607\n",
            "Prob(Omnibus):                  0.001   Jarque-Bera (JB):               36.854\n",
            "Skew:                          -0.366   Prob(JB):                     9.94e-09\n",
            "Kurtosis:                       5.688   Cond. No.                         1.00\n",
            "==============================================================================\n",
            "\n",
            "Warnings:\n",
            "[1] Standard Errors assume that the covariance matrix of the errors is correctly specified.\n"
          ],
          "name": "stdout"
        }
      ]
    },
    {
      "cell_type": "code",
      "metadata": {
        "id": "yOF2KdOqk9Zz",
        "colab_type": "code",
        "outputId": "52801c05-eac4-432c-a4a2-dd8bb962c1b7",
        "colab": {
          "base_uri": "https://localhost:8080/",
          "height": 425
        }
      },
      "source": [
        "#@title Predictive Regression 1-year Lag on Call/Put Ratio {display-mode: \"form\"}\n",
        "print(model_12_mth.summary())\n"
      ],
      "execution_count": 331,
      "outputs": [
        {
          "output_type": "stream",
          "text": [
            "                            OLS Regression Results                            \n",
            "==============================================================================\n",
            "Dep. Variable:                      y   R-squared:                       0.062\n",
            "Model:                            OLS   Adj. R-squared:                  0.054\n",
            "Method:                 Least Squares   F-statistic:                     7.119\n",
            "Date:                Wed, 08 May 2019   Prob (F-statistic):            0.00881\n",
            "Time:                        19:54:14   Log-Likelihood:                 163.37\n",
            "No. Observations:                 108   AIC:                            -324.7\n",
            "Df Residuals:                     107   BIC:                            -322.1\n",
            "Df Model:                           1                                         \n",
            "Covariance Type:            nonrobust                                         \n",
            "==============================================================================\n",
            "                 coef    std err          t      P>|t|      [0.025      0.975]\n",
            "------------------------------------------------------------------------------\n",
            "x1             0.0068      0.003      2.668      0.009       0.002       0.012\n",
            "==============================================================================\n",
            "Omnibus:                       14.887   Durbin-Watson:                   1.593\n",
            "Prob(Omnibus):                  0.001   Jarque-Bera (JB):               36.898\n",
            "Skew:                          -0.414   Prob(JB):                     9.72e-09\n",
            "Kurtosis:                       5.741   Cond. No.                         1.00\n",
            "==============================================================================\n",
            "\n",
            "Warnings:\n",
            "[1] Standard Errors assume that the covariance matrix of the errors is correctly specified.\n"
          ],
          "name": "stdout"
        }
      ]
    },
    {
      "cell_type": "markdown",
      "metadata": {
        "id": "0TEUXLz38zD1",
        "colab_type": "text"
      },
      "source": [
        "# Fama-French\n",
        "1. Sort based into 8 portfolios based on call/put ratio vol at start of each year June\n",
        "2. Calculate return of each portfolio for the year\n",
        "3. Re-shuffle portfolios\n",
        "4. Repeat until 10 years has past"
      ]
    },
    {
      "cell_type": "code",
      "metadata": {
        "id": "BzzR3Yk0lYTg",
        "colab_type": "code",
        "colab": {}
      },
      "source": [
        "start_years = ['200607','200707','200807','200907','201007','201107','201207','201307', '201407', '201507','201607']\n",
        "df_avg_ret_top = pd.DataFrame(columns=['date', 'RET-RF'])\n",
        "df_avg_ret_bottom = pd.DataFrame(columns=['date', 'RET-RF'])\n",
        "df = df_crsp.copy()\n",
        "df['datetime'] = df['date'].apply(lambda x: datetime.strptime(str(x), '%Y%m%d'))"
      ],
      "execution_count": 0,
      "outputs": []
    },
    {
      "cell_type": "code",
      "metadata": {
        "id": "vDbvbcxOlp51",
        "colab_type": "code",
        "colab": {}
      },
      "source": [
        "for i, j in zip(start_years, start_years[1:]):\n",
        "  #select only data in this year\n",
        "  start_date = datetime.strptime(i+'01','%Y%m%d')\n",
        "  end_date = datetime.strptime(j+'01','%Y%m%d')\n",
        "  mask_date = (df['datetime'] > start_date) & (df['datetime'] <= end_date)\n",
        "  df_to_sort = df[mask_date]\n",
        "\n",
        "  #########################\n",
        "  #below is the top 20:\n",
        "  ########################\n",
        "  df_year_top = df[mask_date]\n",
        "  df_sorted_top = df_to_sort.sort_values(by=['ratio_vol'], ascending=False).head(20)\n",
        "  company_top = list(df_sorted_top['ticker'])\n",
        "  mask_comp_top = df['ticker'].isin(company_top)\n",
        "  df_year_top = df_year_top.loc[mask_comp_top] \n",
        "  df_avg_ret_top = df_avg_ret_top.append(df_year_top[['date','RET-RF']])\n",
        "\n",
        "  #########################\n",
        "  #below is the bottom 20:\n",
        "  ########################\n",
        "  df_year_bottom = df[mask_date]\n",
        "  df_sorted_bottom = df_to_sort.sort_values(by=['ratio_vol'], ascending=False).tail(20)\n",
        "  df_year_bottom = df.loc[mask_date]\n",
        "  company_bottom = list(df_sorted_bottom['ticker'])\n",
        "  mask_comp_bottom = df['ticker'].isin(company_bottom)\n",
        "  df_year_bottom = df_year_bottom.loc[mask_comp_bottom]\n",
        "  df_avg_ret_bottom = df_avg_ret_bottom.append(df_year_bottom[['date','RET-RF']])"
      ],
      "execution_count": 0,
      "outputs": []
    },
    {
      "cell_type": "code",
      "metadata": {
        "id": "sc36JtPLuOKe",
        "colab_type": "code",
        "colab": {}
      },
      "source": [
        "df_avg_ret_top__ = df_avg_ret_top.groupby('date').mean()\n",
        "df_avg_ret_bottom__ = df_avg_ret_bottom.groupby('date').mean()"
      ],
      "execution_count": 0,
      "outputs": []
    },
    {
      "cell_type": "code",
      "metadata": {
        "id": "aAatRCAGu5Ou",
        "colab_type": "code",
        "colab": {}
      },
      "source": [
        "# merge with fama_french \n",
        "df_fama = df_fama.rename(index = str, columns = {'dateff': 'date'})\n",
        "#merging top:\n",
        "df_fama_bottom = pd.merge(df_avg_ret_bottom__, df_fama, on='date', how='left')\n",
        "#merging bottom:\n",
        "df_fama_top = pd.merge(df_avg_ret_top__, df_fama, on='date', how='left')"
      ],
      "execution_count": 0,
      "outputs": []
    },
    {
      "cell_type": "code",
      "metadata": {
        "id": "kd4pKsJkwvyU",
        "colab_type": "code",
        "colab": {
          "base_uri": "https://localhost:8080/",
          "height": 496
        },
        "outputId": "60feab40-1dda-4c04-9ee6-b5fbcb1055cc"
      },
      "source": [
        "#@title Fama French 1-Factor Top Regression {display-mode: \"form\"}\n",
        "X_top_1 = df_fama_top[['mktrf']]\n",
        "Y_top_1 = df_fama_top['RET-RF']\n",
        "\n",
        "X_top_1_ = sm.add_constant(X_top_1)\n",
        "model_top_1 = sm.OLS(Y_top_1, X_top_1_).fit()\n",
        "print(model_top_1.summary())"
      ],
      "execution_count": 339,
      "outputs": [
        {
          "output_type": "stream",
          "text": [
            "                            OLS Regression Results                            \n",
            "==============================================================================\n",
            "Dep. Variable:                 RET-RF   R-squared:                       0.658\n",
            "Model:                            OLS   Adj. R-squared:                  0.655\n",
            "Method:                 Least Squares   F-statistic:                     227.0\n",
            "Date:                Wed, 08 May 2019   Prob (F-statistic):           2.93e-29\n",
            "Time:                        19:55:16   Log-Likelihood:                 244.26\n",
            "No. Observations:                 120   AIC:                            -484.5\n",
            "Df Residuals:                     118   BIC:                            -478.9\n",
            "Df Model:                           1                                         \n",
            "Covariance Type:            nonrobust                                         \n",
            "==============================================================================\n",
            "                 coef    std err          t      P>|t|      [0.025      0.975]\n",
            "------------------------------------------------------------------------------\n",
            "const          0.0040      0.003      1.359      0.177      -0.002       0.010\n",
            "mktrf          0.9756      0.065     15.065      0.000       0.847       1.104\n",
            "==============================================================================\n",
            "Omnibus:                       61.359   Durbin-Watson:                   1.784\n",
            "Prob(Omnibus):                  0.000   Jarque-Bera (JB):              450.432\n",
            "Skew:                           1.514   Prob(JB):                     1.55e-98\n",
            "Kurtosis:                      11.995   Cond. No.                         22.3\n",
            "==============================================================================\n",
            "\n",
            "Warnings:\n",
            "[1] Standard Errors assume that the covariance matrix of the errors is correctly specified.\n"
          ],
          "name": "stdout"
        },
        {
          "output_type": "stream",
          "text": [
            "/usr/local/lib/python3.6/dist-packages/numpy/core/fromnumeric.py:2389: FutureWarning: Method .ptp is deprecated and will be removed in a future version. Use numpy.ptp instead.\n",
            "  return ptp(axis=axis, out=out, **kwargs)\n"
          ],
          "name": "stderr"
        }
      ]
    },
    {
      "cell_type": "code",
      "metadata": {
        "id": "9jmCWun8w-TD",
        "colab_type": "code",
        "colab": {
          "base_uri": "https://localhost:8080/",
          "height": 496
        },
        "outputId": "bb7c1fba-f2a8-4394-9164-de1c57b51119"
      },
      "source": [
        "#@title Fama French 1-Factor Top Regression {display-mode: \"form\"}\n",
        "X_bot_1 = df_fama_bottom[['mktrf']]\n",
        "Y_bot_1 = df_fama_bottom['RET-RF']\n",
        "\n",
        "X_bot_1_ = sm.add_constant(X_bot_1)\n",
        "model_bot_1 = sm.OLS(Y_bot_1, X_bot_1_).fit()\n",
        "print(model_bot_1.summary())"
      ],
      "execution_count": 340,
      "outputs": [
        {
          "output_type": "stream",
          "text": [
            "                            OLS Regression Results                            \n",
            "==============================================================================\n",
            "Dep. Variable:                 RET-RF   R-squared:                       0.726\n",
            "Model:                            OLS   Adj. R-squared:                  0.723\n",
            "Method:                 Least Squares   F-statistic:                     312.0\n",
            "Date:                Wed, 08 May 2019   Prob (F-statistic):           6.33e-35\n",
            "Time:                        19:55:20   Log-Likelihood:                 207.90\n",
            "No. Observations:                 120   AIC:                            -411.8\n",
            "Df Residuals:                     118   BIC:                            -406.2\n",
            "Df Model:                           1                                         \n",
            "Covariance Type:            nonrobust                                         \n",
            "==============================================================================\n",
            "                 coef    std err          t      P>|t|      [0.025      0.975]\n",
            "------------------------------------------------------------------------------\n",
            "const         -0.0038      0.004     -0.950      0.344      -0.012       0.004\n",
            "mktrf          1.5486      0.088     17.663      0.000       1.375       1.722\n",
            "==============================================================================\n",
            "Omnibus:                       57.060   Durbin-Watson:                   1.955\n",
            "Prob(Omnibus):                  0.000   Jarque-Bera (JB):              222.768\n",
            "Skew:                           1.656   Prob(JB):                     4.23e-49\n",
            "Kurtosis:                       8.795   Cond. No.                         22.3\n",
            "==============================================================================\n",
            "\n",
            "Warnings:\n",
            "[1] Standard Errors assume that the covariance matrix of the errors is correctly specified.\n"
          ],
          "name": "stdout"
        },
        {
          "output_type": "stream",
          "text": [
            "/usr/local/lib/python3.6/dist-packages/numpy/core/fromnumeric.py:2389: FutureWarning: Method .ptp is deprecated and will be removed in a future version. Use numpy.ptp instead.\n",
            "  return ptp(axis=axis, out=out, **kwargs)\n"
          ],
          "name": "stderr"
        }
      ]
    },
    {
      "cell_type": "code",
      "metadata": {
        "id": "6tUcLFbdvSnd",
        "colab_type": "code",
        "colab": {
          "base_uri": "https://localhost:8080/",
          "height": 530
        },
        "outputId": "681b81cf-3d59-4d1d-9d1d-e113fb72bfa8"
      },
      "source": [
        "#@title Fama French 3-Factor Top Regression {display-mode: \"form\"}\n",
        "X_top = df_fama_top[['mktrf','smb','hml']]\n",
        "Y_top = df_fama_top['RET-RF']\n",
        "\n",
        "X_top_ = sm.add_constant(X_top)\n",
        "model_top = sm.OLS(Y_top, X_top_).fit()\n",
        "print(model_top.summary())"
      ],
      "execution_count": 341,
      "outputs": [
        {
          "output_type": "stream",
          "text": [
            "                            OLS Regression Results                            \n",
            "==============================================================================\n",
            "Dep. Variable:                 RET-RF   R-squared:                       0.665\n",
            "Model:                            OLS   Adj. R-squared:                  0.656\n",
            "Method:                 Least Squares   F-statistic:                     76.77\n",
            "Date:                Wed, 08 May 2019   Prob (F-statistic):           1.99e-27\n",
            "Time:                        19:55:23   Log-Likelihood:                 245.52\n",
            "No. Observations:                 120   AIC:                            -483.0\n",
            "Df Residuals:                     116   BIC:                            -471.9\n",
            "Df Model:                           3                                         \n",
            "Covariance Type:            nonrobust                                         \n",
            "==============================================================================\n",
            "                 coef    std err          t      P>|t|      [0.025      0.975]\n",
            "------------------------------------------------------------------------------\n",
            "const          0.0044      0.003      1.490      0.139      -0.001       0.010\n",
            "mktrf          0.9651      0.072     13.329      0.000       0.822       1.109\n",
            "smb           -0.1190      0.141     -0.843      0.401      -0.399       0.160\n",
            "hml            0.1597      0.118      1.351      0.179      -0.075       0.394\n",
            "==============================================================================\n",
            "Omnibus:                       61.954   Durbin-Watson:                   1.792\n",
            "Prob(Omnibus):                  0.000   Jarque-Bera (JB):              432.618\n",
            "Skew:                           1.556   Prob(JB):                     1.14e-94\n",
            "Kurtosis:                      11.766   Cond. No.                         49.5\n",
            "==============================================================================\n",
            "\n",
            "Warnings:\n",
            "[1] Standard Errors assume that the covariance matrix of the errors is correctly specified.\n"
          ],
          "name": "stdout"
        },
        {
          "output_type": "stream",
          "text": [
            "/usr/local/lib/python3.6/dist-packages/numpy/core/fromnumeric.py:2389: FutureWarning: Method .ptp is deprecated and will be removed in a future version. Use numpy.ptp instead.\n",
            "  return ptp(axis=axis, out=out, **kwargs)\n"
          ],
          "name": "stderr"
        }
      ]
    },
    {
      "cell_type": "code",
      "metadata": {
        "id": "ehMufpXxwP4T",
        "colab_type": "code",
        "colab": {
          "base_uri": "https://localhost:8080/",
          "height": 530
        },
        "outputId": "e3510b75-e523-4b89-8fcc-c7547a56e750"
      },
      "source": [
        "#@title Fama French 3-Factor Bottom Regression {display-mode: \"form\"}\n",
        "X_bottom = df_fama_bottom[['mktrf','smb','hml']]\n",
        "Y_bottom = df_fama_bottom['RET-RF']\n",
        "\n",
        "X_bottom_ = sm.add_constant(X_bottom)\n",
        "model_bottom = sm.OLS(Y_bottom, X_bottom_).fit()\n",
        "print(model_bottom.summary())"
      ],
      "execution_count": 342,
      "outputs": [
        {
          "output_type": "stream",
          "text": [
            "                            OLS Regression Results                            \n",
            "==============================================================================\n",
            "Dep. Variable:                 RET-RF   R-squared:                       0.763\n",
            "Model:                            OLS   Adj. R-squared:                  0.757\n",
            "Method:                 Least Squares   F-statistic:                     124.6\n",
            "Date:                Wed, 08 May 2019   Prob (F-statistic):           3.98e-36\n",
            "Time:                        19:55:27   Log-Likelihood:                 216.73\n",
            "No. Observations:                 120   AIC:                            -425.5\n",
            "Df Residuals:                     116   BIC:                            -414.3\n",
            "Df Model:                           3                                         \n",
            "Covariance Type:            nonrobust                                         \n",
            "==============================================================================\n",
            "                 coef    std err          t      P>|t|      [0.025      0.975]\n",
            "------------------------------------------------------------------------------\n",
            "const         -0.0018      0.004     -0.475      0.635      -0.009       0.006\n",
            "mktrf          1.3925      0.092     15.129      0.000       1.210       1.575\n",
            "smb            0.2249      0.179      1.254      0.212      -0.130       0.580\n",
            "hml            0.6108      0.150      4.063      0.000       0.313       0.909\n",
            "==============================================================================\n",
            "Omnibus:                       33.081   Durbin-Watson:                   1.959\n",
            "Prob(Omnibus):                  0.000   Jarque-Bera (JB):               66.119\n",
            "Skew:                           1.150   Prob(JB):                     4.39e-15\n",
            "Kurtosis:                       5.817   Cond. No.                         49.5\n",
            "==============================================================================\n",
            "\n",
            "Warnings:\n",
            "[1] Standard Errors assume that the covariance matrix of the errors is correctly specified.\n"
          ],
          "name": "stdout"
        },
        {
          "output_type": "stream",
          "text": [
            "/usr/local/lib/python3.6/dist-packages/numpy/core/fromnumeric.py:2389: FutureWarning: Method .ptp is deprecated and will be removed in a future version. Use numpy.ptp instead.\n",
            "  return ptp(axis=axis, out=out, **kwargs)\n"
          ],
          "name": "stderr"
        }
      ]
    },
    {
      "cell_type": "code",
      "metadata": {
        "id": "fp2s004XxuHS",
        "colab_type": "code",
        "colab": {
          "base_uri": "https://localhost:8080/",
          "height": 496
        },
        "outputId": "d36f0f80-64f6-4d70-c66c-6e62b5e3d345"
      },
      "source": [
        "#@title Fama French 1-Factor Long-Short Regression {display-mode: \"form\"}\n",
        "X_LS_1 = df_fama_top[['mktrf']]\n",
        "Y_LS_1 = df_fama_top['RET-RF'] - df_fama_bottom['RET-RF']\n",
        "\n",
        "X_LS_1_ = sm.add_constant(X_LS_1)\n",
        "model_LS_1 = sm.OLS(Y_LS_1, X_LS_1_).fit()\n",
        "print(model_LS_1.summary())"
      ],
      "execution_count": 343,
      "outputs": [
        {
          "output_type": "stream",
          "text": [
            "                            OLS Regression Results                            \n",
            "==============================================================================\n",
            "Dep. Variable:                 RET-RF   R-squared:                       0.275\n",
            "Model:                            OLS   Adj. R-squared:                  0.269\n",
            "Method:                 Least Squares   F-statistic:                     44.75\n",
            "Date:                Wed, 08 May 2019   Prob (F-statistic):           7.91e-10\n",
            "Time:                        19:55:30   Log-Likelihood:                 210.68\n",
            "No. Observations:                 120   AIC:                            -417.4\n",
            "Df Residuals:                     118   BIC:                            -411.8\n",
            "Df Model:                           1                                         \n",
            "Covariance Type:            nonrobust                                         \n",
            "==============================================================================\n",
            "                 coef    std err          t      P>|t|      [0.025      0.975]\n",
            "------------------------------------------------------------------------------\n",
            "const          0.0078      0.004      1.999      0.048    7.38e-05       0.015\n",
            "mktrf         -0.5731      0.086     -6.689      0.000      -0.743      -0.403\n",
            "==============================================================================\n",
            "Omnibus:                       55.207   Durbin-Watson:                   2.337\n",
            "Prob(Omnibus):                  0.000   Jarque-Bera (JB):              216.166\n",
            "Skew:                          -1.590   Prob(JB):                     1.15e-47\n",
            "Kurtosis:                       8.756   Cond. No.                         22.3\n",
            "==============================================================================\n",
            "\n",
            "Warnings:\n",
            "[1] Standard Errors assume that the covariance matrix of the errors is correctly specified.\n"
          ],
          "name": "stdout"
        },
        {
          "output_type": "stream",
          "text": [
            "/usr/local/lib/python3.6/dist-packages/numpy/core/fromnumeric.py:2389: FutureWarning: Method .ptp is deprecated and will be removed in a future version. Use numpy.ptp instead.\n",
            "  return ptp(axis=axis, out=out, **kwargs)\n"
          ],
          "name": "stderr"
        }
      ]
    },
    {
      "cell_type": "code",
      "metadata": {
        "id": "O3pTqOfwyOxB",
        "colab_type": "code",
        "colab": {
          "base_uri": "https://localhost:8080/",
          "height": 530
        },
        "outputId": "ed05c76e-34fa-41ea-c1db-bc2de0b574f8"
      },
      "source": [
        "#@title Fama French 3-Factor Long-Short Regression {display-mode: \"form\"}\n",
        "X_LS_3 = df_fama_top[['mktrf','smb','hml']]\n",
        "Y_LS_3 = df_fama_top['RET-RF'] - df_fama_bottom['RET-RF']\n",
        "\n",
        "X_LS_3_ = sm.add_constant(X_LS_3)\n",
        "model_LS_3 = sm.OLS(Y_LS_3, X_LS_3_).fit()\n",
        "print(model_LS_3.summary())"
      ],
      "execution_count": 344,
      "outputs": [
        {
          "output_type": "stream",
          "text": [
            "                            OLS Regression Results                            \n",
            "==============================================================================\n",
            "Dep. Variable:                 RET-RF   R-squared:                       0.349\n",
            "Model:                            OLS   Adj. R-squared:                  0.332\n",
            "Method:                 Least Squares   F-statistic:                     20.70\n",
            "Date:                Wed, 08 May 2019   Prob (F-statistic):           8.26e-11\n",
            "Time:                        19:55:33   Log-Likelihood:                 217.11\n",
            "No. Observations:                 120   AIC:                            -426.2\n",
            "Df Residuals:                     116   BIC:                            -415.1\n",
            "Df Model:                           3                                         \n",
            "Covariance Type:            nonrobust                                         \n",
            "==============================================================================\n",
            "                 coef    std err          t      P>|t|      [0.025      0.975]\n",
            "------------------------------------------------------------------------------\n",
            "const          0.0062      0.004      1.652      0.101      -0.001       0.014\n",
            "mktrf         -0.4274      0.092     -4.658      0.000      -0.609      -0.246\n",
            "smb           -0.3440      0.179     -1.923      0.057      -0.698       0.010\n",
            "hml           -0.4511      0.150     -3.010      0.003      -0.748      -0.154\n",
            "==============================================================================\n",
            "Omnibus:                       43.378   Durbin-Watson:                   2.496\n",
            "Prob(Omnibus):                  0.000   Jarque-Bera (JB):              119.849\n",
            "Skew:                          -1.349   Prob(JB):                     9.44e-27\n",
            "Kurtosis:                       7.086   Cond. No.                         49.5\n",
            "==============================================================================\n",
            "\n",
            "Warnings:\n",
            "[1] Standard Errors assume that the covariance matrix of the errors is correctly specified.\n"
          ],
          "name": "stdout"
        },
        {
          "output_type": "stream",
          "text": [
            "/usr/local/lib/python3.6/dist-packages/numpy/core/fromnumeric.py:2389: FutureWarning: Method .ptp is deprecated and will be removed in a future version. Use numpy.ptp instead.\n",
            "  return ptp(axis=axis, out=out, **kwargs)\n"
          ],
          "name": "stderr"
        }
      ]
    },
    {
      "cell_type": "code",
      "metadata": {
        "id": "58mqOAwKygmi",
        "colab_type": "code",
        "colab": {}
      },
      "source": [
        "df_fama_top = df_fama_top.rename(index = str, columns = {'RET-RF':'TOP-REF-RF'})\n",
        "df_fama_bottom = df_fama_bottom.rename(index = str, columns = {'RET-RF':'BOTTOM-REF-RF'})\n",
        "df_cum = df_fama_top[['date', 'TOP-REF-RF']]\n",
        "df_cum = df_cum.merge(df_fama_bottom[['date', 'BOTTOM-REF-RF', 'mktrf']], on = 'date', how = 'inner')\n",
        "df_cum.set_index('date', inplace=True)"
      ],
      "execution_count": 0,
      "outputs": []
    },
    {
      "cell_type": "code",
      "metadata": {
        "id": "E5Izd_hI9bpI",
        "colab_type": "code",
        "colab": {}
      },
      "source": [
        "df_cum.reset_index(inplace=True)\n",
        "df_cum['datetime'] = df_cum['date'].apply(lambda x: datetime.strptime(str(x), '%Y%m%d'))\n",
        "df_cum.set_index('datetime',inplace=True)\n",
        "df_cum.drop(['level_0', 'index','date'],axis = 1, inplace=True)"
      ],
      "execution_count": 0,
      "outputs": []
    },
    {
      "cell_type": "code",
      "metadata": {
        "id": "N70Gu2RM-IZ3",
        "colab_type": "code",
        "colab": {}
      },
      "source": [
        "df_cum['LONG_SHORT_RET-RF'] = df_cum['TOP-REF-RF'] - df_cum['BOTTOM-REF-RF']"
      ],
      "execution_count": 0,
      "outputs": []
    },
    {
      "cell_type": "code",
      "metadata": {
        "id": "u_Djz8gk1MGI",
        "colab_type": "code",
        "colab": {
          "base_uri": "https://localhost:8080/",
          "height": 371
        },
        "outputId": "ba051dcb-8c2c-43c1-d6c0-cdf270ace293"
      },
      "source": [
        "#@title Fama French Cumulative Returns on $100 Portfolio {display-mode: \"form\"}\n",
        "df_cumret = (df_cum+1).cumprod()*100\n",
        "df_cumret.plot(figsize= (20,6));"
      ],
      "execution_count": 327,
      "outputs": [
        {
          "output_type": "display_data",
          "data": {
            "image/png": "[encoded data removed]",
            "text/plain": [
              "<Figure size 1440x432 with 1 Axes>"
            ]
          },
          "metadata": {
            "tags": []
          }
        }
      ]
    },
    {
      "cell_type": "markdown",
      "metadata": {
        "id": "a85zCN93Nds6",
        "colab_type": "text"
      },
      "source": [
        "# Fama-Macbeth\n",
        "1. For each company run a regression on market returns to calculate Beta\n",
        "2. Calculate lambda1 and lambda2 based on beta and indicator to predict returns-risk free rate"
      ]
    },
    {
      "cell_type": "code",
      "metadata": {
        "id": "8dTMQMqrOku-",
        "colab_type": "code",
        "colab": {}
      },
      "source": [
        "def calc_beta(df_ ,df_fama_mkt, ticker, betas):\n",
        "  df = pd.merge(df_.loc[df_['ticker'] == ticker, ['date','RET-RF', 'ratio_vol']], df_fama_mkt, on='date', how = 'left')\n",
        "  X = list(df['mktrf'])\n",
        "  Y = list(df['RET-RF'])\n",
        "  beta = sm.OLS(Y, X).fit().params[0]\n",
        "  betas[ticker] = beta"
      ],
      "execution_count": 0,
      "outputs": []
    },
    {
      "cell_type": "code",
      "metadata": {
        "id": "yzr2bHG3SCEY",
        "colab_type": "code",
        "colab": {}
      },
      "source": [
        "df_fama_mkt = df_fama.copy()\n",
        "df_fama_mkt.rename(index = str, columns = {'dateff': 'date'}, inplace = True)\n",
        "df_fama_mkt.drop(['smb', 'hml', 'rf', 'umd'], axis = 1, inplace=True)\n",
        "\n",
        "tickers = df_crsp.ticker.unique()\n",
        "betas = {}\n",
        "for ticker in tickers: \n",
        "  calc_beta(df_crsp, df_fama_mkt, ticker, betas)"
      ],
      "execution_count": 0,
      "outputs": []
    },
    {
      "cell_type": "code",
      "metadata": {
        "colab_type": "code",
        "id": "ibUrMjACRGPe",
        "colab": {}
      },
      "source": [
        "df_betas = pd.DataFrame.from_dict(betas, orient = 'index', columns = ['Beta'])\n",
        "df_crsp['beta'] = df_crsp['ticker'].apply(lambda x: betas[x])"
      ],
      "execution_count": 0,
      "outputs": []
    },
    {
      "cell_type": "code",
      "metadata": {
        "id": "pxbnHGtoe6om",
        "colab_type": "code",
        "colab": {}
      },
      "source": [
        "def fama_mac(df_, date_, fama_):\n",
        "  X = df_[['beta', 'ratio_vol']]\n",
        "  Y = list(df_['RET-RF'])\n",
        "  X_= sm.add_constant(X, has_constant='add')\n",
        "  fama_mg = sm.OLS(Y, X_).fit()\n",
        "  fama_[date_] = [fama_mg.params[0], fama_mg.params[1], fama_mg.params[2]]\n",
        "  return "
      ],
      "execution_count": 0,
      "outputs": []
    },
    {
      "cell_type": "code",
      "metadata": {
        "id": "F5j-BtZJfv24",
        "colab_type": "code",
        "colab": {}
      },
      "source": [
        "unique_dates = list(df_crsp.date.unique())\n",
        "fama = {}\n",
        "for date in unique_dates: \n",
        "  fama_mac(df_crsp.loc[df_crsp['date'] == date], date, fama)"
      ],
      "execution_count": 0,
      "outputs": []
    },
    {
      "cell_type": "code",
      "metadata": {
        "id": "a5MRsMKPhAhJ",
        "colab_type": "code",
        "colab": {}
      },
      "source": [
        "df_fama_mac = pd.DataFrame.from_dict(fama, orient = 'index', columns = ['alpha', 'lambda1', 'lambda2'])\n",
        "df_fama_mac.head()"
      ],
      "execution_count": 0,
      "outputs": []
    },
    {
      "cell_type": "code",
      "metadata": {
        "id": "OdMRMyM4dBal",
        "colab_type": "code",
        "colab": {
          "base_uri": "https://localhost:8080/",
          "height": 204
        },
        "outputId": "ab654de3-edf0-43bd-b545-846cf8e44ce2"
      },
      "source": [
        "print(\"Beta Lambda1 Mean:\", df_fama_mac.lambda1.mean(), \"\\nBeta Lambda1 StDev:\",df_fama_mac.lambda1.std(), \"\\nt-test:\", abs(df_fama_mac.lambda1.mean()/df_fama_mac.lambda1.std()))\n",
        "print(\"\\nRatio Options Vol Lambda2 Mean:\", df_fama_mac.lambda2.mean(), \"\\nRatio Options Vol Lambda2 StDev:\",df_fama_mac.lambda2.std(), \"\\nt-test:\", abs(df_fama_mac.lambda2.mean()/df_fama_mac.lambda2.std()))\n",
        "print(\"\\nAlpha Mean:\", df_fama_mac.alpha.mean(), \"\\nAlpha StDev:\",df_fama_mac.alpha.std(),\"\\nt-test:\",  abs(df_fama_mac.alpha.mean()/df_fama_mac.alpha.std()))"
      ],
      "execution_count": 199,
      "outputs": [
        {
          "output_type": "stream",
          "text": [
            "Beta Lambda1 Mean: -0.001266767180708773 \n",
            "Beta Lambda1 StDev: 0.06199728844749373 \n",
            "t-test: 0.020432622336081906\n",
            "\n",
            "Ratio Options Vol Lambda2 Mean: 0.005149882142597017 \n",
            "Ratio Options Vol Lambda2 StDev: 0.010540703111255456 \n",
            "t-test: 0.4885710268319698\n",
            "\n",
            "Alpha Mean: 0.0007247960185920543 \n",
            "Alpha StDev: 0.043300658403403504 \n",
            "t-test: 0.016738683551635884\n"
          ],
          "name": "stdout"
        }
      ]
    }
  ]
}